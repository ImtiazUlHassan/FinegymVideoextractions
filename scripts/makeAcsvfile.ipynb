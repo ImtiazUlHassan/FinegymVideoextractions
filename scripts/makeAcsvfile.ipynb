{
 "cells": [
  {
   "cell_type": "markdown",
   "id": "a78f9bd8-fa82-44a3-871a-054a658b810c",
   "metadata": {},
   "source": [
    "# FineGym Data Extraction Making CSVs"
   ]
  },
  {
   "cell_type": "markdown",
   "id": "e6afd185-1700-4c43-a224-8688743ca2bb",
   "metadata": {},
   "source": [
    "This notebook contains a script that processes the finegym99_train_element_v1.1.txt and finegym_annotation_info_v1.1 files to generate a CSV file. This CSV can then be used to extract subaction labels from FineGym raw videos, enabling more structured and efficient analysis of the video data"
   ]
  },
  {
   "cell_type": "markdown",
   "id": "901a2d2f-b94a-4a41-9f02-1f90c887531d",
   "metadata": {},
   "source": [
    "## Extracting train Gym 99"
   ]
  },
  {
   "cell_type": "code",
   "execution_count": 69,
   "id": "3c691dab-4c87-4192-bbd5-2ddf1fe4a2b2",
   "metadata": {},
   "outputs": [],
   "source": [
    "import os\n",
    "import cv2\n",
    "import pandas as pd\n",
    "import re \n",
    "import json"
   ]
  },
  {
   "cell_type": "code",
   "execution_count": 145,
   "id": "c917e0ba-bd4d-46bf-bc5b-662ec95b3324",
   "metadata": {},
   "outputs": [],
   "source": [
    "annotation_file =\"<path to jsonfile>/finegym_annotation_info_v1.1.json\"\n",
    "train_file =\"<pathtotrainsplitfile>/gym99_train_element_v1.1.txt\""
   ]
  },
  {
   "cell_type": "code",
   "execution_count": 73,
   "id": "ba3b1de7-cfca-40ac-a857-1d2d39e53541",
   "metadata": {},
   "outputs": [],
   "source": [
    "def extract_eventsegment(string):\n",
    "    match = re.search(r'(E_\\d+_\\d+)', string)\n",
    "    return match.group(1) if match else None\n",
    "\n",
    "def extract_Action_segment(string):\n",
    "    match = re.search(r'(A_\\d+_\\d+)', string)\n",
    "    return match.group(1) if match else None\n",
    "\n",
    "def extract_filename(string):\n",
    "    match = re.match(r'([^_]+_E_\\d+_\\d+)', string)\n",
    "    return match.group(1) + \".mp4\" if match else None\n",
    "\n",
    "stages=[]\n",
    "\n",
    "with open(annotation_file, 'r') as f:\n",
    "    data=json.load(f)\n",
    "with open(train_file, 'r') as f:\n",
    "    train_lines = f.readlines()\n",
    "\n",
    "lines=train_lines\n"
   ]
  },
  {
   "cell_type": "code",
   "execution_count": 75,
   "id": "acb5084b-010f-4598-8589-f718800e96f2",
   "metadata": {},
   "outputs": [],
   "source": [
    "full_ids=[]\n",
    "classes=[]\n",
    "video_ids=[]\n",
    "Event_start_times=[]\n",
    "Event_end_times=[]\n",
    "Subaction_start_times=[]\n",
    "Subaction_end_times=[]\n",
    "#videoname=[]\n",
    "events=[]\n",
    "stages=[]\n"
   ]
  },
  {
   "cell_type": "code",
   "execution_count": 77,
   "id": "298511c9-351b-4aaf-9de6-a6b64ef31742",
   "metadata": {},
   "outputs": [],
   "source": [
    "count=0\n",
    "for line in lines:\n",
    "    full_id = line.split(\" \")[0]\n",
    "    full_ids.append(full_id)\n",
    "    \n",
    "    label = int(line.split(\" \")[1])\n",
    "    classes.append(label)\n",
    "\n",
    "   \n",
    "\n",
    "\n",
    "    \n",
    "    video_id = full_id.split(\"_E_\")[0]\n",
    "    video_ids.append(video_id)\n",
    "    \n",
    "    \n",
    "    eventonly_id=extract_eventsegment(full_id)\n",
    "    eventtimestamps=data[video_id][eventonly_id][\"timestamps\"]\n",
    "    start_event=eventtimestamps[0][0]\n",
    "    end_event=eventtimestamps[0][1]\n",
    "    Event_start_times.append(start_event)\n",
    "    Event_end_times.append(end_event)\n",
    "\n",
    "    \n",
    "    event=data[video_id][eventonly_id][\"event\"]\n",
    "    events.append(event)\n",
    "    \n",
    "    actiononlyid=extract_Action_segment(full_id)\n",
    "    actiontimestamps=data[video_id][eventonly_id][\"segments\"][actiononlyid][\"timestamps\"]\n",
    "    \n",
    "    stageaction=data[video_id][eventonly_id][\"segments\"][actiononlyid][\"stages\"]\n",
    "    stages.append(stageaction)\n",
    "        \n",
    "    if stageaction==3:   # action has 3 stages\n",
    "        #print(\"length is :\",len(actiontimestamps))\n",
    "        startaction=actiontimestamps[0][0]+start_event\n",
    "        Subaction_start_times.append(startaction)\n",
    "        endaction=actiontimestamps[2][1]+start_event\n",
    "        Subaction_end_times.append(endaction)\n",
    "        \n",
    "        \n",
    "        \n",
    "\n",
    "\n",
    "    if stageaction==1:\n",
    "        startaction=actiontimestamps[0][0]+start_event\n",
    "        Subaction_start_times.append(startaction)\n",
    "        endaction=actiontimestamps[0][1]+start_event\n",
    "        Subaction_end_times.append(endaction)"
   ]
  },
  {
   "cell_type": "code",
   "execution_count": 79,
   "id": "246137fd-dc98-4ad2-9811-03effeb25b68",
   "metadata": {},
   "outputs": [],
   "source": [
    "columns = [\"full_id\", \"class\", \"Event_start_time\",\"event\", \"Event_end_time\", \"Subaction_start\", \"Subaction_end\", \"videoname\",\"stages\"]\n"
   ]
  },
  {
   "cell_type": "code",
   "execution_count": 81,
   "id": "fecb4c00-26f0-4893-a1c0-0e8ff7a626a8",
   "metadata": {},
   "outputs": [],
   "source": [
    "df_traingym99 = pd.DataFrame({\n",
    "    \"full_id\": full_ids,\n",
    "    \"class\": classes,\n",
    "    \"event\": events,\n",
    "    \"Event_start_time\": Event_start_times,\n",
    "    \"Event_end_time\": Event_end_times,\n",
    "    \"Subaction_start\": Subaction_start_times,\n",
    "    \"Subaction_end\": Subaction_end_times,\n",
    "    \"videoname\": video_ids,\n",
    "    \"stages\": stages\n",
    "})"
   ]
  },
  {
   "cell_type": "code",
   "execution_count": 83,
   "id": "7465bc60-24b1-4010-a8d4-8691fb23382c",
   "metadata": {},
   "outputs": [
    {
     "data": {
      "text/plain": [
       "(26320, 9)"
      ]
     },
     "execution_count": 83,
     "metadata": {},
     "output_type": "execute_result"
    }
   ],
   "source": [
    "df_traingym99.shape\n"
   ]
  },
  {
   "cell_type": "code",
   "execution_count": 85,
   "id": "0d91289e-6f65-496f-b6b6-d3a1cef61c53",
   "metadata": {},
   "outputs": [],
   "source": [
    "df_traingym99.to_csv(\"train99.csv\", index=False)"
   ]
  },
  {
   "cell_type": "code",
   "execution_count": 109,
   "id": "dbfe0171-d73d-4e01-ae0e-b0dccf629de1",
   "metadata": {},
   "outputs": [
    {
     "data": {
      "text/html": [
       "<div>\n",
       "<style scoped>\n",
       "    .dataframe tbody tr th:only-of-type {\n",
       "        vertical-align: middle;\n",
       "    }\n",
       "\n",
       "    .dataframe tbody tr th {\n",
       "        vertical-align: top;\n",
       "    }\n",
       "\n",
       "    .dataframe thead th {\n",
       "        text-align: right;\n",
       "    }\n",
       "</style>\n",
       "<table border=\"1\" class=\"dataframe\">\n",
       "  <thead>\n",
       "    <tr style=\"text-align: right;\">\n",
       "      <th></th>\n",
       "      <th>full_id</th>\n",
       "      <th>class</th>\n",
       "      <th>event</th>\n",
       "      <th>Event_start_time</th>\n",
       "      <th>Event_end_time</th>\n",
       "      <th>Subaction_start</th>\n",
       "      <th>Subaction_end</th>\n",
       "      <th>videoname</th>\n",
       "      <th>stages</th>\n",
       "      <th>time_taken</th>\n",
       "    </tr>\n",
       "  </thead>\n",
       "  <tbody>\n",
       "    <tr>\n",
       "      <th>9430</th>\n",
       "      <td>YesOPAkCA40_E_005962_005977_A_0000_0015</td>\n",
       "      <td>0</td>\n",
       "      <td>1</td>\n",
       "      <td>5962.32</td>\n",
       "      <td>5977.76</td>\n",
       "      <td>5962.47</td>\n",
       "      <td>5977.59</td>\n",
       "      <td>YesOPAkCA40</td>\n",
       "      <td>3</td>\n",
       "      <td>15.12</td>\n",
       "    </tr>\n",
       "    <tr>\n",
       "      <th>12006</th>\n",
       "      <td>gYyLkUbGuUU_E_001965_001985_A_0000_0020</td>\n",
       "      <td>4</td>\n",
       "      <td>1</td>\n",
       "      <td>1965.04</td>\n",
       "      <td>1985.48</td>\n",
       "      <td>1965.14</td>\n",
       "      <td>1985.38</td>\n",
       "      <td>gYyLkUbGuUU</td>\n",
       "      <td>3</td>\n",
       "      <td>20.24</td>\n",
       "    </tr>\n",
       "    <tr>\n",
       "      <th>19780</th>\n",
       "      <td>wYbfwx93VXk_E_001363_001393_A_0001_0030</td>\n",
       "      <td>5</td>\n",
       "      <td>1</td>\n",
       "      <td>1363.16</td>\n",
       "      <td>1393.44</td>\n",
       "      <td>1364.36</td>\n",
       "      <td>1393.36</td>\n",
       "      <td>wYbfwx93VXk</td>\n",
       "      <td>3</td>\n",
       "      <td>29.00</td>\n",
       "    </tr>\n",
       "  </tbody>\n",
       "</table>\n",
       "</div>"
      ],
      "text/plain": [
       "                                       full_id  class  event  \\\n",
       "9430   YesOPAkCA40_E_005962_005977_A_0000_0015      0      1   \n",
       "12006  gYyLkUbGuUU_E_001965_001985_A_0000_0020      4      1   \n",
       "19780  wYbfwx93VXk_E_001363_001393_A_0001_0030      5      1   \n",
       "\n",
       "       Event_start_time  Event_end_time  Subaction_start  Subaction_end  \\\n",
       "9430            5962.32         5977.76          5962.47        5977.59   \n",
       "12006           1965.04         1985.48          1965.14        1985.38   \n",
       "19780           1363.16         1393.44          1364.36        1393.36   \n",
       "\n",
       "         videoname  stages  time_taken  \n",
       "9430   YesOPAkCA40       3       15.12  \n",
       "12006  gYyLkUbGuUU       3       20.24  \n",
       "19780  wYbfwx93VXk       3       29.00  "
      ]
     },
     "execution_count": 109,
     "metadata": {},
     "output_type": "execute_result"
    }
   ],
   "source": [
    "df_traingym99[df_traingym99['time_taken'] >= 15].head() ## sub action with length more then 15 seconds "
   ]
  },
  {
   "cell_type": "code",
   "execution_count": 121,
   "id": "26308157-d18f-42b8-88b8-c2d6160cace3",
   "metadata": {},
   "outputs": [
    {
     "data": {
      "image/png": "[encoded data removed]",
      "text/plain": [
       "<Figure size 1900x800 with 1 Axes>"
      ]
     },
     "metadata": {},
     "output_type": "display_data"
    }
   ],
   "source": [
    "import seaborn as sns\n",
    "import matplotlib.pyplot as plt\n",
    "import numpy as np\n",
    "\n",
    "# Assuming df_traingym99 already has 'Subaction_start' and 'Subaction_end' in seconds\n",
    "# Calculate the time difference and create a new column 'time_taken'\n",
    "df_traingym99['time_taken'] = df_traingym99['Subaction_end'] - df_traingym99['Subaction_start']\n",
    "\n",
    "# Filter the time taken to be less than or equal to 10 seconds\n",
    "df_traingym99_filtered = df_traingym99[df_traingym99['time_taken'] <= 10]\n",
    "\n",
    "# Set bin size for 0.25 seconds\n",
    "bin_size = 0.5\n",
    "bins = np.arange(0, df_traingym99_filtered['time_taken'].max() + bin_size, bin_size)\n",
    "\n",
    "# Plot the distribution of time taken using a bar plot with 0.25s bins\n",
    "plt.figure(figsize=(19, 8))\n",
    "sns.histplot(df_traingym99_filtered['time_taken'], kde=False, bins=bins)\n",
    "\n",
    "# Set title and labels\n",
    "plt.title('Distribution of Time Taken')\n",
    "plt.xlabel('Time Taken (Seconds)')\n",
    "plt.ylabel('Frequency')\n",
    "\n",
    "# Set x-axis ticks to show the seconds (0.25 increments)\n",
    "plt.xticks(np.arange(0, df_traingym99_filtered['time_taken'].max() + bin_size, bin_size))\n",
    "\n",
    "plt.show()\n"
   ]
  },
  {
   "cell_type": "code",
   "execution_count": 127,
   "id": "3d6a3266-88b5-401e-a62e-495a69b6c343",
   "metadata": {},
   "outputs": [
    {
     "data": {
      "image/png": "[encoded data removed]",
      "text/plain": [
       "<Figure size 640x480 with 1 Axes>"
      ]
     },
     "metadata": {},
     "output_type": "display_data"
    }
   ],
   "source": [
    "import seaborn as sns\n",
    "import matplotlib.pyplot as plt\n",
    "\n",
    "# Plot the count distribution\n",
    "sns.countplot(data=df_traingym99, x='event')\n",
    "\n",
    "# Add title and labels\n",
    "plt.title('Count Distribution of Events')\n",
    "plt.xlabel('Event')\n",
    "plt.ylabel('Count')\n",
    "\n",
    "# Display the plot\n",
    "plt.show()\n"
   ]
  },
  {
   "cell_type": "markdown",
   "id": "70654b96-eaeb-40e0-933c-5fa94397ea5d",
   "metadata": {},
   "source": [
    "## Validation Gym 99 "
   ]
  },
  {
   "cell_type": "code",
   "execution_count": 53,
   "id": "231586b9-1b8a-44ff-809c-ee66e58c87bc",
   "metadata": {},
   "outputs": [],
   "source": [
    "\n",
    "annotation_file =\"<path to jsonfile>/finegym_annotation_info_v1.1.json\"\n",
    "valfile =\"<pathtovalidationsplitfile>/gym99_val_element.1.txt\""
   ]
  },
  {
   "cell_type": "code",
   "execution_count": 131,
   "id": "a6997328-c4cc-4963-a569-c677d7382977",
   "metadata": {},
   "outputs": [],
   "source": [
    "with open(annotation_file, 'r') as f:\n",
    "    data=json.load(f)\n",
    "with open(valfile, 'r') as f:\n",
    "    val_lines = f.readlines()\n",
    "\n",
    "lines=val_lines\n",
    "\n",
    "\n",
    "\n",
    "\n"
   ]
  },
  {
   "cell_type": "code",
   "execution_count": 133,
   "id": "c0309dff-eb82-457b-809a-02df469ec03d",
   "metadata": {},
   "outputs": [],
   "source": [
    "full_ids=[]\n",
    "classes=[]\n",
    "video_ids=[]\n",
    "Event_start_times=[]\n",
    "Event_end_times=[]\n",
    "Subaction_start_times=[]\n",
    "Subaction_end_times=[]\n",
    "#videoname=[]\n",
    "events=[]\n",
    "stages=[]\n",
    "\n",
    "\n",
    "count=0\n",
    "for line in lines:\n",
    "    full_id = line.split(\" \")[0]\n",
    "    full_ids.append(full_id)\n",
    "    \n",
    "    label = int(line.split(\" \")[1])\n",
    "    classes.append(label)\n",
    "\n",
    "   \n",
    "\n",
    "\n",
    "    \n",
    "    video_id = full_id.split(\"_E_\")[0]\n",
    "    video_ids.append(video_id)\n",
    "    \n",
    "    \n",
    "    eventonly_id=extract_eventsegment(full_id)\n",
    "    eventtimestamps=data[video_id][eventonly_id][\"timestamps\"]\n",
    "    start_event=eventtimestamps[0][0]\n",
    "    end_event=eventtimestamps[0][1]\n",
    "    Event_start_times.append(start_event)\n",
    "    Event_end_times.append(end_event)\n",
    "\n",
    "    \n",
    "    event=data[video_id][eventonly_id][\"event\"]\n",
    "    events.append(event)\n",
    "    \n",
    "    actiononlyid=extract_Action_segment(full_id)\n",
    "    actiontimestamps=data[video_id][eventonly_id][\"segments\"][actiononlyid][\"timestamps\"]\n",
    "    \n",
    "    stageaction=data[video_id][eventonly_id][\"segments\"][actiononlyid][\"stages\"]\n",
    "    stages.append(stageaction)\n",
    "        \n",
    "    if stageaction==3:   # action has 3 stages\n",
    "        #print(\"length is :\",len(actiontimestamps))\n",
    "        startaction=actiontimestamps[0][0]+start_event\n",
    "        Subaction_start_times.append(startaction)\n",
    "        endaction=actiontimestamps[2][1]+start_event\n",
    "        Subaction_end_times.append(endaction)\n",
    "        \n",
    "        \n",
    "        \n",
    "\n",
    "\n",
    "    if stageaction==1:\n",
    "        startaction=actiontimestamps[0][0]+start_event\n",
    "        Subaction_start_times.append(startaction)\n",
    "        endaction=actiontimestamps[0][1]+start_event\n",
    "        Subaction_end_times.append(endaction)\n",
    "\n"
   ]
  },
  {
   "cell_type": "code",
   "execution_count": 135,
   "id": "77122485-1d04-47a2-8fc2-ba6be7fe73c7",
   "metadata": {},
   "outputs": [],
   "source": [
    "columns = [\"full_id\", \"class\", \"Event_start_time\",\"event\", \"Event_end_time\", \"Subaction_start\", \"Subaction_end\", \"videoname\",\"stages\"]\n",
    "df_valgym99 = pd.DataFrame({\n",
    "    \"full_id\": full_ids,\n",
    "    \"class\": classes,\n",
    "    \"event\": events,\n",
    "    \"Event_start_time\": Event_start_times,\n",
    "    \"Event_end_time\": Event_end_times,\n",
    "    \"Subaction_start\": Subaction_start_times,\n",
    "    \"Subaction_end\": Subaction_end_times,\n",
    "    \"videoname\": video_ids,\n",
    "    \"stages\": stages\n",
    "})\n",
    "\n"
   ]
  },
  {
   "cell_type": "code",
   "execution_count": 137,
   "id": "b6449118-0fd9-4b77-b60a-f20db5f84ece",
   "metadata": {},
   "outputs": [
    {
     "data": {
      "text/plain": [
       "(8521, 9)"
      ]
     },
     "execution_count": 137,
     "metadata": {},
     "output_type": "execute_result"
    }
   ],
   "source": [
    "df_valgym99.shape"
   ]
  },
  {
   "cell_type": "code",
   "execution_count": 139,
   "id": "9ad07d92-2c1d-49a5-9f6e-204f4155ba71",
   "metadata": {},
   "outputs": [],
   "source": [
    "df_valgym99.to_csv(\"val99.csv\", index=False)"
   ]
  },
  {
   "cell_type": "code",
   "execution_count": 147,
   "id": "d7a34ef3-14ff-49b4-8aad-9f4d9a816ded",
   "metadata": {},
   "outputs": [
    {
     "data": {
      "text/plain": [
       "'C:\\\\Users\\\\Hassani\\\\Downloads'"
      ]
     },
     "execution_count": 147,
     "metadata": {},
     "output_type": "execute_result"
    }
   ],
   "source": []
  },
  {
   "cell_type": "code",
   "execution_count": null,
   "id": "6c7e6af5-3097-4eac-83aa-3ea3bd89237f",
   "metadata": {},
   "outputs": [],
   "source": []
  }
 ],
 "metadata": {
  "kernelspec": {
   "display_name": "Python 3 (ipykernel)",
   "language": "python",
   "name": "python3"
  },
  "language_info": {
   "codemirror_mode": {
    "name": "ipython",
    "version": 3
   },
   "file_extension": ".py",
   "mimetype": "text/x-python",
   "name": "python",
   "nbconvert_exporter": "python",
   "pygments_lexer": "ipython3",
   "version": "3.12.3"
  }
 },
 "nbformat": 4,
 "nbformat_minor": 5
}
